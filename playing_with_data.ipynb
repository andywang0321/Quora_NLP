{
 "cells": [
  {
   "cell_type": "code",
   "execution_count": 3,
   "metadata": {},
   "outputs": [],
   "source": [
    "import pandas as pd\n",
    "import matplotlib.pyplot as plt"
   ]
  },
  {
   "cell_type": "code",
   "execution_count": 8,
   "metadata": {},
   "outputs": [
    {
     "data": {
      "text/html": [
       "<div>\n",
       "<style scoped>\n",
       "    .dataframe tbody tr th:only-of-type {\n",
       "        vertical-align: middle;\n",
       "    }\n",
       "\n",
       "    .dataframe tbody tr th {\n",
       "        vertical-align: top;\n",
       "    }\n",
       "\n",
       "    .dataframe thead th {\n",
       "        text-align: right;\n",
       "    }\n",
       "</style>\n",
       "<table border=\"1\" class=\"dataframe\">\n",
       "  <thead>\n",
       "    <tr style=\"text-align: right;\">\n",
       "      <th></th>\n",
       "      <th>qid</th>\n",
       "      <th>question_text</th>\n",
       "      <th>target</th>\n",
       "    </tr>\n",
       "  </thead>\n",
       "  <tbody>\n",
       "    <tr>\n",
       "      <th>830968</th>\n",
       "      <td>a2d87666dd7a1df8f69c</td>\n",
       "      <td>How can I get rid of my thoughts and myself?</td>\n",
       "      <td>0</td>\n",
       "    </tr>\n",
       "    <tr>\n",
       "      <th>404801</th>\n",
       "      <td>4f53e568dc0090866f49</td>\n",
       "      <td>What is American Express hoping to achieve by ...</td>\n",
       "      <td>0</td>\n",
       "    </tr>\n",
       "    <tr>\n",
       "      <th>910608</th>\n",
       "      <td>b26db3ef0229fc358d7d</td>\n",
       "      <td>How much time does it take to learn salesforce...</td>\n",
       "      <td>0</td>\n",
       "    </tr>\n",
       "    <tr>\n",
       "      <th>180417</th>\n",
       "      <td>234488179463be637417</td>\n",
       "      <td>How are computer monitors manufactured?</td>\n",
       "      <td>0</td>\n",
       "    </tr>\n",
       "    <tr>\n",
       "      <th>1130852</th>\n",
       "      <td>dda08cec193a837d6979</td>\n",
       "      <td>How can one reduce their plastic usage in ever...</td>\n",
       "      <td>0</td>\n",
       "    </tr>\n",
       "  </tbody>\n",
       "</table>\n",
       "</div>"
      ],
      "text/plain": [
       "                          qid  \\\n",
       "830968   a2d87666dd7a1df8f69c   \n",
       "404801   4f53e568dc0090866f49   \n",
       "910608   b26db3ef0229fc358d7d   \n",
       "180417   234488179463be637417   \n",
       "1130852  dda08cec193a837d6979   \n",
       "\n",
       "                                             question_text  target  \n",
       "830968        How can I get rid of my thoughts and myself?       0  \n",
       "404801   What is American Express hoping to achieve by ...       0  \n",
       "910608   How much time does it take to learn salesforce...       0  \n",
       "180417             How are computer monitors manufactured?       0  \n",
       "1130852  How can one reduce their plastic usage in ever...       0  "
      ]
     },
     "execution_count": 8,
     "metadata": {},
     "output_type": "execute_result"
    }
   ],
   "source": [
    "directory = \"/Users/andywang/Documents/learnpytorch/quora_nlp/data/train.csv\"\n",
    "train_csv = pd.read_csv(directory)\n",
    "train_csv.sample(5)"
   ]
  },
  {
   "cell_type": "code",
   "execution_count": 30,
   "metadata": {},
   "outputs": [
    {
     "data": {
      "text/plain": [
       "target\n",
       "0    1225312\n",
       "1      80810\n",
       "Name: count, dtype: int64"
      ]
     },
     "execution_count": 30,
     "metadata": {},
     "output_type": "execute_result"
    }
   ],
   "source": [
    "train_csv.target.value_counts()"
   ]
  }
 ],
 "metadata": {
  "kernelspec": {
   "display_name": "learnpytorch",
   "language": "python",
   "name": "python3"
  },
  "language_info": {
   "codemirror_mode": {
    "name": "ipython",
    "version": 3
   },
   "file_extension": ".py",
   "mimetype": "text/x-python",
   "name": "python",
   "nbconvert_exporter": "python",
   "pygments_lexer": "ipython3",
   "version": "3.11.5"
  }
 },
 "nbformat": 4,
 "nbformat_minor": 2
}
